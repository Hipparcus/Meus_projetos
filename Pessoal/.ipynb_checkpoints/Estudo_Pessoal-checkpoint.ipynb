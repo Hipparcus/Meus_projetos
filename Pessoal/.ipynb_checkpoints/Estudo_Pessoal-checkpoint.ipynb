{
 "cells": [
  {
   "cell_type": "code",
   "execution_count": 1,
   "metadata": {},
   "outputs": [],
   "source": [
    "from astroquery.vizier import Vizier\n",
    "import numpy as np\n",
    "import pandas as pd\n",
    "import matplotlib.pyplot as plt\n",
    "import astropy.units as u"
   ]
  },
  {
   "cell_type": "markdown",
   "metadata": {},
   "source": [
    "## Estudo de POO"
   ]
  },
  {
   "cell_type": "markdown",
   "metadata": {},
   "source": [
    "    Se trata de um paradigma da programação em que tentamos representar objetos reais em variáveis/classes no programa"
   ]
  },
  {
   "cell_type": "markdown",
   "metadata": {},
   "source": [
    "### Capt1: Classes"
   ]
  },
  {
   "cell_type": "markdown",
   "metadata": {},
   "source": [
    "Criar um .py com o código abaixo dentro. No caso, digamos que seja pessoa.py"
   ]
  },
  {
   "cell_type": "code",
   "execution_count": null,
   "metadata": {},
   "outputs": [],
   "source": [
    "#arquivo .py\n",
    "class Pessoa:\n",
    "    pass"
   ]
  },
  {
   "cell_type": "markdown",
   "metadata": {},
   "source": [
    "Com intuito de utilizar esse .py importando-a:"
   ]
  },
  {
   "cell_type": "code",
   "execution_count": null,
   "metadata": {},
   "outputs": [],
   "source": [
    "from pessoa import Pessoa\n",
    "\n",
    "p1 = Pessoa()\n",
    "p2 = Pessoa()\n",
    "\n",
    "print(p1)"
   ]
  },
  {
   "cell_type": "code",
   "execution_count": null,
   "metadata": {},
   "outputs": [],
   "source": [
    "print(p2)"
   ]
  },
  {
   "cell_type": "markdown",
   "metadata": {},
   "source": [
    "Cada p se trata de um 'molde' para criarmos uma pessoa diferente. Não são variáveis iguais, mesmo que nenhuma delas tenham qualquer informação extra"
   ]
  },
  {
   "cell_type": "markdown",
   "metadata": {},
   "source": [
    "Na criação desse .py, uma função particular é utilizada: '_ _init_ _() '\n",
    "\n",
    "Essa função é chamada sempre que um novo objeto da classe é instanciado/justificado. Esse tipo de função é também chamado de 'construtor' em POO. Normalmente usamos ela para iniciar uma série de variáveis logo de cara (todas que a classe exigir). Ou seja, é dentro dessa função que colocamos todos os parâmetros que queremos ter da nossa classe, no caso, queremos 'nome, idade, comendo e falando'."
   ]
  },
  {
   "cell_type": "markdown",
   "metadata": {},
   "source": [
    "> Criarei o arquivo .py com infos mais completas para que possamos estudar vários exemplos\n",
    ">> Lembrando: funções utilizadas dentro de classes são chamadas de métodos.\n",
    ">> O parâmetro 'self' é registrado automaticamente pelo python, de forma que o primeiro parâmetro exigido é o que vem logo em seguida."
   ]
  },
  {
   "cell_type": "code",
   "execution_count": null,
   "metadata": {},
   "outputs": [],
   "source": [
    "#Arquivo .py\n",
    "class Pessoa:\n",
    "    def __init__(self, nome, idade, comendo=False, falando=False):\n",
    "        pass"
   ]
  },
  {
   "cell_type": "code",
   "execution_count": 2,
   "metadata": {},
   "outputs": [],
   "source": [
    "from pessoa import Pessoa"
   ]
  },
  {
   "cell_type": "code",
   "execution_count": 3,
   "metadata": {},
   "outputs": [],
   "source": [
    "p3 = Pessoa('Luiz',29) "
   ]
  },
  {
   "cell_type": "markdown",
   "metadata": {},
   "source": [
    "É o mesmo que fazer \" p3.nome = 'Luiz' e p3.idade = 29 \" simultaneamente"
   ]
  },
  {
   "cell_type": "markdown",
   "metadata": {},
   "source": [
    "- Exemplo de outros métodos dentro da mesma classe:"
   ]
  },
  {
   "cell_type": "markdown",
   "metadata": {},
   "source": [
    "    Diagamos..."
   ]
  },
  {
   "cell_type": "code",
   "execution_count": null,
   "metadata": {},
   "outputs": [],
   "source": [
    "#arquivo .py\n",
    "class Pessoa:\n",
    "    def __init__(self, nome, idade, comendo=False, falando=False):\n",
    "        self.nome = nome\n",
    "        self.idade = idade\n",
    "        self.comendo = comendo\n",
    "        self.falando = falando\n",
    "        \n",
    "    def comer(self, alimento):\n",
    "        if self.comendo == True:\n",
    "            print(f'{self.nome} nao pode comer agora...')\n",
    "        else:\n",
    "            self.alimento = alimento\n",
    "            print(f'comendo {self.alimento}!')\n",
    "            self.comendo = True\n",
    "        \n",
    "    def parar_comer(self):\n",
    "        if self.comendo == False:\n",
    "            print(f'{self.nome} vai morrer de fome...')\n",
    "        else:\n",
    "            self.comendo = False"
   ]
  },
  {
   "cell_type": "code",
   "execution_count": 4,
   "metadata": {},
   "outputs": [
    {
     "name": "stdout",
     "output_type": "stream",
     "text": [
      "comendo banana!\n"
     ]
    }
   ],
   "source": [
    "p3.comer('banana')"
   ]
  },
  {
   "cell_type": "code",
   "execution_count": 5,
   "metadata": {},
   "outputs": [
    {
     "name": "stdout",
     "output_type": "stream",
     "text": [
      "Luiz nao pode comer agora...\n"
     ]
    }
   ],
   "source": [
    "p3.comer('maca')"
   ]
  },
  {
   "cell_type": "code",
   "execution_count": 6,
   "metadata": {},
   "outputs": [
    {
     "name": "stdout",
     "output_type": "stream",
     "text": [
      "comendo maca!\n"
     ]
    }
   ],
   "source": [
    "p3.parar_comer()\n",
    "p3.comer('maca')"
   ]
  },
  {
   "cell_type": "code",
   "execution_count": 7,
   "metadata": {},
   "outputs": [
    {
     "name": "stdout",
     "output_type": "stream",
     "text": [
      "Luiz vai morrer de fome...\n"
     ]
    }
   ],
   "source": [
    "p3.parar_comer()\n",
    "p3.parar_comer()"
   ]
  },
  {
   "cell_type": "markdown",
   "metadata": {},
   "source": [
    "    É possível utilizar a biblioteca datetime para colocar o ano atual e diminuir da idade de qualquer pessoa (assim o método pode calcular o ano de nascimento dela!)"
   ]
  },
  {
   "cell_type": "code",
   "execution_count": null,
   "metadata": {},
   "outputs": [],
   "source": [
    "#arquivo .py\n",
    "from datetime import datetime\n",
    "class Pessoa:\n",
    "    ano_atual = int(datetime.strftime(datetime.now(),'%Y')) #cria-se variavel especifica da classe\n",
    "    def __init__(self, nome, idade, comendo=False, falando=False):\n",
    "        self.nome = nome\n",
    "        self.idade = idade\n",
    "        self.comendo = comendo\n",
    "        self.falando = falando\n",
    "    def ano_nascimento(self):\n",
    "        return self.ano_atual - self.idade"
   ]
  },
  {
   "cell_type": "markdown",
   "metadata": {},
   "source": [
    " - Exemplo de outra classe dentro do mesmo módulo"
   ]
  },
  {
   "cell_type": "code",
   "execution_count": 8,
   "metadata": {},
   "outputs": [],
   "source": [
    "from pessoa import Complex"
   ]
  },
  {
   "cell_type": "code",
   "execution_count": null,
   "metadata": {},
   "outputs": [],
   "source": [
    "#Arquivo .py\n",
    "\n",
    "class Complex:\n",
    "    def __init__(self, r=0, i=0):\n",
    "        self.real = r\n",
    "        self.imag = i\n",
    "\n",
    "    def get_data(self):\n",
    "        print(f'{self.real}+{self.imag}j')"
   ]
  },
  {
   "cell_type": "code",
   "execution_count": 9,
   "metadata": {},
   "outputs": [
    {
     "name": "stdout",
     "output_type": "stream",
     "text": [
      "2+5j\n"
     ]
    }
   ],
   "source": [
    "n1 = Complex(2,5) # função dentro da classe que pega os numeros que queremos. caso não seja escrito nada, usa zero.\n",
    "n1.get_data() # função pra printar o numero escolhido"
   ]
  },
  {
   "cell_type": "code",
   "execution_count": 10,
   "metadata": {},
   "outputs": [
    {
     "name": "stdout",
     "output_type": "stream",
     "text": [
      "1+15j\n"
     ]
    }
   ],
   "source": [
    "n2 = Complex(1,15)\n",
    "n2.get_data()"
   ]
  },
  {
   "cell_type": "markdown",
   "metadata": {},
   "source": [
    "### Capt 1.2: Método de classes "
   ]
  },
  {
   "cell_type": "markdown",
   "metadata": {},
   "source": [
    "Vimos até aqui o 'método de instancias' ao trabalharmos com classes, embora não tenhamos precisado chamá-lo por esse nome. O método da instancia nada mais é que a criação dessas funções (módulos) em que há parâmetros necessários (começando pelo self). \n",
    "\n",
    "No entanto, é possível trabalhar de outra forma. Considere o mesmo arquivo que criamos anteriormente:"
   ]
  },
  {
   "cell_type": "markdown",
   "metadata": {},
   "source": [
    "    Imagine que queremos criar uma variavel pessoa a partir de outras informações, por exemplo, o ano de nascimento"
   ]
  },
  {
   "cell_type": "code",
   "execution_count": null,
   "metadata": {},
   "outputs": [],
   "source": [
    "# Arquivo .py\n",
    "from datetime import datetime\n",
    "class Pessoa:\n",
    "    ano_atual = int(datetime.strftime(datetime.now(),'%Y'))\n",
    "    def __init__(self, nome, idade, comendo=False, falando=False):\n",
    "        self.nome = nome\n",
    "        self.idade = idade\n",
    "        self.comendo = comendo\n",
    "        self.falando = falando\n",
    "        \n",
    "    @classmethod\n",
    "    def por_ano_nasc(cls, nome, ano_nasc): #Chamamos cls como se fosse Pessoa\n",
    "        idade = cls.ano_atual - ano_nasc\n",
    "        return cls(nome, idade) #como se fosse Pessoa('Luiz',29)"
   ]
  },
  {
   "cell_type": "code",
   "execution_count": null,
   "metadata": {},
   "outputs": [],
   "source": [
    "p1 = Pessoa.por_ano_nasc('Luiz',1987)"
   ]
  },
  {
   "cell_type": "markdown",
   "metadata": {},
   "source": [
    "Esse método permite criar funções que independem das instâncias passadas, mas é altamente dependente da existencia da classe em sí!"
   ]
  },
  {
   "cell_type": "markdown",
   "metadata": {},
   "source": [
    "### Capt 1.3: Método estático"
   ]
  },
  {
   "cell_type": "markdown",
   "metadata": {},
   "source": [
    "Se antes utilizamos o @classmethod, agora teremos o @staticmethod  !!! \n",
    "Veremos o que isso significa:"
   ]
  },
  {
   "cell_type": "markdown",
   "metadata": {},
   "source": [
    "Esse método independe da instância E da classe. Se trata da criação de funções comuns, que não dependem da classe e nem dos parâmetros internos, mas que, por questões de organização, só podem existir quando a classe está sendo utilizada."
   ]
  },
  {
   "cell_type": "code",
   "execution_count": null,
   "metadata": {},
   "outputs": [],
   "source": [
    "# Arquivo .py\n",
    "from datetime import datetime\n",
    "from random import randint\n",
    "\n",
    "class Pessoa:\n",
    "    ano_atual = int(datetime.strftime(datetime.now(),'%Y'))\n",
    "    def __init__(self, nome, idade, comendo=False, falando=False):\n",
    "        self.nome = nome\n",
    "        self.idade = idade\n",
    "        self.comendo = comendo\n",
    "        self.falando = falando\n",
    "        \n",
    "    @classmethod\n",
    "    def por_ano_nasc(cls, nome, ano_nasc): \n",
    "        idade = cls.ano_atual - ano_nasc\n",
    "        return cls(nome, idade) \n",
    "    @staticmethod\n",
    "    def gera_id(): #Uma função que vai gerar um numero aleatorio para que seja a identidade da pessoa\n",
    "        rand = randint(10000,19999)\n",
    "        return rand"
   ]
  },
  {
   "cell_type": "code",
   "execution_count": null,
   "metadata": {},
   "outputs": [],
   "source": [
    "p3.gera_id()"
   ]
  },
  {
   "cell_type": "markdown",
   "metadata": {},
   "source": [
    " - Atenção: dentro desse tipo de funçõa não se usa self nem cls"
   ]
  },
  {
   "cell_type": "markdown",
   "metadata": {},
   "source": [
    "### Capt 2:  Getters e Setters"
   ]
  },
  {
   "cell_type": "markdown",
   "metadata": {},
   "source": [
    "Suponha o arquivo comerce.py criada nesta pasta."
   ]
  },
  {
   "cell_type": "code",
   "execution_count": 11,
   "metadata": {},
   "outputs": [],
   "source": [
    "from comerce import Produto"
   ]
  },
  {
   "cell_type": "code",
   "execution_count": 12,
   "metadata": {},
   "outputs": [],
   "source": [
    "p1 = Produto('Camisa branca',70)\n",
    "p1.desconto(15)"
   ]
  },
  {
   "cell_type": "code",
   "execution_count": 13,
   "metadata": {},
   "outputs": [
    {
     "data": {
      "text/plain": [
       "59.5"
      ]
     },
     "execution_count": 13,
     "metadata": {},
     "output_type": "execute_result"
    }
   ],
   "source": [
    "p1.preco"
   ]
  },
  {
   "cell_type": "code",
   "execution_count": 14,
   "metadata": {},
   "outputs": [
    {
     "data": {
      "text/plain": [
       "250"
      ]
     },
     "execution_count": 14,
     "metadata": {},
     "output_type": "execute_result"
    }
   ],
   "source": [
    "p2 = Produto('Calça sarja bege',250)\n",
    "p2.preco"
   ]
  },
  {
   "cell_type": "code",
   "execution_count": 15,
   "metadata": {},
   "outputs": [
    {
     "data": {
      "text/plain": [
       "225.0"
      ]
     },
     "execution_count": 15,
     "metadata": {},
     "output_type": "execute_result"
    }
   ],
   "source": [
    "p2.desconto(10)\n",
    "p2.preco"
   ]
  },
  {
   "cell_type": "markdown",
   "metadata": {},
   "source": [
    "Imagine que queiramos digitar o preço dos produtos em forma de string, 'R$ 15,00' por exemplo."
   ]
  },
  {
   "cell_type": "markdown",
   "metadata": {},
   "source": [
    "Invés de modificar a classe dentro do arquivo para ler a string da forma correta e em seguida calcular o valor com desconto, podemos usar um Getter pra 'pegar' esse valor e um Setter para configurá-lo"
   ]
  },
  {
   "cell_type": "code",
   "execution_count": null,
   "metadata": {},
   "outputs": [],
   "source": [
    "##Arquivo .py\n",
    "    ##Getter\n",
    "@property\n",
    "def preco(self):\n",
    "    return self._preco\n",
    "    ##Setter\n",
    "@preco.setter\n",
    "def preco(self,valor):\n",
    "    self._preco = valor"
   ]
  },
  {
   "cell_type": "markdown",
   "metadata": {},
   "source": [
    "Por enquanto essas funções não fazem muita coisa, mas é a base para o que iremos fazer."
   ]
  },
  {
   "cell_type": "code",
   "execution_count": null,
   "metadata": {},
   "outputs": [],
   "source": [
    "##Arquivo .py\n",
    "    ##Getter\n",
    "@property\n",
    "def preco(self):\n",
    "    return self._preco\n",
    "    ##Setter\n",
    "    # O setter acaba servindo de proteção para nosso código, alterando o valor que deve ser lido sem afetar \n",
    "    #                      na estrutura\n",
    "@preco.setter\n",
    "def preco(self,valor):\n",
    "    if isinstance(valor, str): #Se o valor recebido é string -> usamos o Setter como proteção para \n",
    "        valor = float(valor.replace('R$',''))\n",
    "    self._preco = valor"
   ]
  },
  {
   "cell_type": "code",
   "execution_count": 17,
   "metadata": {},
   "outputs": [],
   "source": [
    "##Função criada por mim para tornar o projeto mais legal -> apliquei no arquivo como @staticmethod\n",
    "def ident_numb(string):\n",
    "    '''\n",
    "    Docstring: Função que identifica o numero do preço escrito numa string. \n",
    "    Retorna o valor em float (já conta os centavos).\n",
    "    '''\n",
    "    string = string.replace(\" \",\"\").replace(\".\",\"\").replace(\",\",\".\") #Passar tudo pra float antes\n",
    "    st=\"\"\n",
    "    for i in range(len(string)):\n",
    "        if string[i].isdigit() == False: #Se não for digito -> pode ser o ponto ou ser ignorado\n",
    "            if string[i] == '.':\n",
    "                st=st+string[i]\n",
    "                continue\n",
    "            else:\n",
    "                pass\n",
    "        else:\n",
    "            st=st+string[i]\n",
    "    return float(st)"
   ]
  },
  {
   "cell_type": "code",
   "execution_count": null,
   "metadata": {},
   "outputs": [],
   "source": [
    "## Tentar colocar comerce.py com:\n",
    "\n",
    "    @property\n",
    "    def preco(self):\n",
    "        return self._preco\n",
    "\n",
    "    @preco.setter\n",
    "    def preco(self,valor):\n",
    "        if isinstance(valor, str): #Se o valor recebido é string -> usamos o Setter como proteção \n",
    "            valor = valor.replace(\" \",\"\").replace(\".\",\"\").replace(\",\",\".\") #Passar tudo pra ser lido em float antes\n",
    "            st=\"\"\n",
    "            for i in range(len(valor)):\n",
    "                if valor[i].isdigit() == False: #Se não for digito -> pode ser o ponto ou ser ignorado\n",
    "                    if valor[i] == '.':\n",
    "                        st=st+valor[i]\n",
    "                        continue\n",
    "                    else:\n",
    "                        pass\n",
    "                else:\n",
    "                    st=st+valor[i]\n",
    "        self._preco = float(st)"
   ]
  },
  {
   "cell_type": "code",
   "execution_count": null,
   "metadata": {},
   "outputs": [],
   "source": [
    "from comerce import Produto"
   ]
  },
  {
   "cell_type": "code",
   "execution_count": null,
   "metadata": {},
   "outputs": [],
   "source": [
    "p3 = Produto('Xbox Series X','R$ 4.500,67')"
   ]
  },
  {
   "cell_type": "code",
   "execution_count": null,
   "metadata": {},
   "outputs": [],
   "source": [
    "p3.desconto(5)"
   ]
  },
  {
   "cell_type": "markdown",
   "metadata": {},
   "source": [
    "    Consertar o erro depois..."
   ]
  },
  {
   "cell_type": "code",
   "execution_count": 21,
   "metadata": {},
   "outputs": [
    {
     "data": {
      "text/plain": [
       "90.0"
      ]
     },
     "execution_count": 21,
     "metadata": {},
     "output_type": "execute_result"
    }
   ],
   "source": [
    "#O que deveria acontecer:\n",
    "def desconto(preco,desc):\n",
    "    return preco - (preco*(desc/100))\n",
    "\n",
    "desconto(100,5)\n",
    "desconto(ident_numb('R$100,00'),10)"
   ]
  },
  {
   "cell_type": "markdown",
   "metadata": {},
   "source": [
    " ### Capt 3:  Atributos de Classe"
   ]
  },
  {
   "cell_type": "code",
   "execution_count": 23,
   "metadata": {},
   "outputs": [
    {
     "name": "stdout",
     "output_type": "stream",
     "text": [
      "123\n"
     ]
    }
   ],
   "source": [
    "class A:\n",
    "    vc = 123 #Variável de classe\n",
    "\n",
    "e1=A()\n",
    "print(e1.vc)"
   ]
  },
  {
   "cell_type": "code",
   "execution_count": 24,
   "metadata": {},
   "outputs": [
    {
     "name": "stdout",
     "output_type": "stream",
     "text": [
      "3\n"
     ]
    }
   ],
   "source": [
    "A.vc = 3\n",
    "print(e1.vc)"
   ]
  },
  {
   "cell_type": "code",
   "execution_count": 26,
   "metadata": {},
   "outputs": [
    {
     "name": "stdout",
     "output_type": "stream",
     "text": [
      "e1 = 2\n",
      "e2 = 321\n"
     ]
    }
   ],
   "source": [
    "A.vc = 321\n",
    "e2 = A()\n",
    "e1.vc = 2\n",
    "print('e1 = '+str(e1.vc)+'\\n'+'e2 = '+str(e2.vc))"
   ]
  },
  {
   "cell_type": "markdown",
   "metadata": {},
   "source": [
    " - O uso do __ dict__"
   ]
  },
  {
   "cell_type": "code",
   "execution_count": 27,
   "metadata": {},
   "outputs": [
    {
     "name": "stdout",
     "output_type": "stream",
     "text": [
      "{'vc': 2}\n"
     ]
    }
   ],
   "source": [
    "print(e1.__dict__)"
   ]
  },
  {
   "cell_type": "code",
   "execution_count": 28,
   "metadata": {},
   "outputs": [
    {
     "name": "stdout",
     "output_type": "stream",
     "text": [
      "{'__module__': '__main__', 'vc': 321, '__dict__': <attribute '__dict__' of 'A' objects>, '__weakref__': <attribute '__weakref__' of 'A' objects>, '__doc__': None}\n"
     ]
    }
   ],
   "source": [
    "print(A.__dict__)"
   ]
  },
  {
   "cell_type": "code",
   "execution_count": 29,
   "metadata": {},
   "outputs": [
    {
     "name": "stdout",
     "output_type": "stream",
     "text": [
      "{'_Pessoa__nome': 'Fulano', '_Pessoa__idade': 32, '_Pessoa__altura': 1.86}\n"
     ]
    }
   ],
   "source": [
    "class Pessoa:\n",
    "    def __init__(self, nome, idade, altura):\n",
    "\n",
    "        \"\"\"Método construtor da classe Pessoa\"\"\"\n",
    "\n",
    "        self.__nome = nome\n",
    "        self.__idade = idade\n",
    "        self.__altura = altura\n",
    "\n",
    "pessoa1 = Pessoa('Fulano', 32, 1.86)\n",
    "\n",
    "print(pessoa1.__dict__)"
   ]
  },
  {
   "cell_type": "markdown",
   "metadata": {},
   "source": [
    "Trata-se de um atributo - e é a forma implementada, oficialmente, na linguagem de guardar atributos de instância nos objetos. É um dicionário comum, e você pode usar qualquer código que operaria em um dicionário comum com o __ dict__ de uma instância."
   ]
  },
  {
   "cell_type": "markdown",
   "metadata": {},
   "source": [
    " - A diferença entre variável de instância e de classe:"
   ]
  },
  {
   "cell_type": "code",
   "execution_count": 32,
   "metadata": {},
   "outputs": [
    {
     "name": "stdout",
     "output_type": "stream",
     "text": [
      "Variável de instância(a1):  321 \n",
      "Variável de classe(A):  123\n"
     ]
    }
   ],
   "source": [
    "class A:\n",
    "    vc = 123 #Variável de classe\n",
    "    def __init__(self): #Variavel de instância\n",
    "        self.vc = 321\n",
    "a1 = A()\n",
    "\n",
    "print('Variável de instância(a1): ',a1.vc,'\\nVariável de classe(A): ',A.vc)"
   ]
  },
  {
   "cell_type": "markdown",
   "metadata": {},
   "source": [
    "### Capt4: Encapsulamento"
   ]
  },
  {
   "cell_type": "markdown",
   "metadata": {},
   "source": [
    "Vamos esconder partes do código no intuito de proteger algum método cuja a fácil acessibilidade seja um incoveniente."
   ]
  },
  {
   "cell_type": "markdown",
   "metadata": {},
   "source": [
    "É preciso diferenciar a forma com que é feita nas demais linguagens com a forma que é feita no Python..."
   ]
  },
  {
   "cell_type": "markdown",
   "metadata": {},
   "source": [
    " - POO clássica vs POO Python:"
   ]
  },
  {
   "cell_type": "markdown",
   "metadata": {},
   "source": [
    "Métodos e atributos __publicos__(acessados dentro e fora da classe), __protetores__ (apenas dentro da classe ou herança), __private__(apenas dentro da classe). \n",
    "\n",
    "Tudo isso para proteger nossa aplicação."
   ]
  },
  {
   "cell_type": "code",
   "execution_count": 35,
   "metadata": {},
   "outputs": [
    {
     "name": "stdout",
     "output_type": "stream",
     "text": [
      "{'clientes': {1: 'Otavio', 2: 'Julia', 3: 'Rose'}}\n"
     ]
    }
   ],
   "source": [
    "class BaseDados:\n",
    "\tdef __init__(self): ##'Construtor' \n",
    "\t\tself.dados = {} #dicionario vazio -> serve de nossa base de dados\n",
    "\tdef inserir_cliente(self,id,nome): #método para inserir clientes nessa base\n",
    "\t\tif 'clientes' not in self.dados: #primeira vez rodando não há 'clientes' -> crie a lista.\n",
    "\t\t\tself.dados['clientes'] = {id: nome}\n",
    "\t\telse:\n",
    "\t\t\tself.dados['clientes'].update({id: nome}) #proximas vezes, atualizar os dados invés de criar \n",
    "\n",
    "bd = BaseDados()\n",
    "## Inserindo dados...\n",
    "bd.inserir_cliente(1,'Otavio')\n",
    "bd.inserir_cliente(2,'Julia')\n",
    "bd.inserir_cliente(3, 'Rose')\n",
    "print(bd.dados)"
   ]
  },
  {
   "cell_type": "code",
   "execution_count": 50,
   "metadata": {},
   "outputs": [
    {
     "name": "stdout",
     "output_type": "stream",
     "text": [
      "1 Thiago\n",
      "2 Joao\n",
      "3 AAAA\n"
     ]
    }
   ],
   "source": [
    "class BaseDados:\n",
    "\tdef __init__(self): ##'Construtor' \n",
    "\t\tself.dados = {} #dicionario vazio -> serve de nossa base de dados\n",
    "\tdef inserir_cliente(self,id,nome): #método para inserir clientes nessa base\n",
    "\t\tif 'clientes' not in self.dados: #primeira vez rodando não há 'clientes' -> crie a lista.\n",
    "\t\t\tself.dados['clientes'] = {id: nome}\n",
    "\t\telse:\n",
    "\t\t\tself.dados['clientes'].update({id: nome}) #proximas vezes, atualizar os dados invés de criar \n",
    "\tdef listar_clientes(self):\n",
    "\t\tfor id,nome in self.dados['clientes'].items():\n",
    "\t\t\tprint(id,nome)\n",
    "\tdef apaga_cliente(self,id):\n",
    "\t\tdel self.dados['clientes'][id]\n",
    "bd2 = BaseDados()\n",
    "bd2.inserir_cliente(1,'Thiago')\n",
    "bd2.inserir_cliente(2,'Joao')\n",
    "bd2.inserir_cliente(3, 'AAAA')\n",
    "bd2.listar_clientes()"
   ]
  },
  {
   "cell_type": "code",
   "execution_count": 51,
   "metadata": {},
   "outputs": [
    {
     "name": "stdout",
     "output_type": "stream",
     "text": [
      "1 Thiago\n",
      "3 AAAA\n"
     ]
    }
   ],
   "source": [
    "bd2.apaga_cliente(2)\n",
    "bd2.listar_clientes()"
   ]
  },
  {
   "cell_type": "markdown",
   "metadata": {},
   "source": [
    "Perceba bem como essa classe foi desenhada:"
   ]
  },
  {
   "cell_type": "code",
   "execution_count": null,
   "metadata": {},
   "outputs": [],
   "source": [
    "class BaseDados:\n",
    "\tdef __init__(self): ##'Construtor' \n",
    "\t\tself.dados = {} ##### --->> Public (se houver: bd.dados = 'string', todo o banco de dados é destruido)\n",
    "\tdef inserir_cliente(self,id,nome): \n",
    "\t\tif 'clientes' not in self.dados: \n",
    "\t\t\tself.dados['clientes'] = {id: nome}\n",
    "\t\telse:\n",
    "\t\t\tself.dados['clientes'].update({id: nome}) \n",
    "\tdef listar_clientes(self):\n",
    "\t\tfor id,nome in self.dados['clientes'].items():\n",
    "\t\t\tprint(id,nome)\n",
    "\tdef apaga_cliente(self,id):\n",
    "\t\tdel self.dados['clientes'][id]"
   ]
  },
  {
   "cell_type": "markdown",
   "metadata": {},
   "source": [
    "Perceba que o nucleo da classe é acessível e Python permite isso. Em outra linguagem poderíamos criar self.dados de forma a não ser publico (private ou protected), mas isso vai contra o desenvolvimento fundamental do Python."
   ]
  },
  {
   "cell_type": "markdown",
   "metadata": {},
   "source": [
    "Por isso, foram criados meios de se proteger esses tipos de variáveis. É feito isso colocando '_ ' antes do nome. Por exemplo:"
   ]
  },
  {
   "cell_type": "code",
   "execution_count": 60,
   "metadata": {},
   "outputs": [],
   "source": [
    "class BaseDados:\n",
    "\tdef __init__(self): \n",
    "\t\tself._dados = {} # _dados agora é Protected\n",
    "\tdef inserir_cliente(self,id,nome): \n",
    "\t\tif 'clientes' not in self._dados: \n",
    "\t\t\tself._dados['clientes'] = {id: nome}\n",
    "\t\telse:\n",
    "\t\t\tself._dados['clientes'].update({id: nome}) \n",
    "\tdef listar_clientes(self):\n",
    "\t\tfor id,nome in self._dados['clientes'].items():\n",
    "\t\t\tprint(id,nome)\n",
    "\tdef apaga_cliente(self,id):\n",
    "\t\tdel self._dados['clientes'][id]\n"
   ]
  },
  {
   "cell_type": "markdown",
   "metadata": {},
   "source": [
    "Ainda é possível acessar esse dado, mas é uma convenção. Com apenas 1 underline é considerado protected, e 2 underlines é considerado private (altamente recomendado que não se mexa).\n",
    "No caso do uso de dois underlines a variável fica realmente invulnerável, pois a linguagem considera ser uma outra variável (como se criasse uma outro atributo com mesmo nome)."
   ]
  },
  {
   "cell_type": "markdown",
   "metadata": {},
   "source": [
    "Isso também serve paras os métodos (funções internas à classe)."
   ]
  },
  {
   "cell_type": "code",
   "execution_count": 62,
   "metadata": {},
   "outputs": [
    {
     "name": "stdout",
     "output_type": "stream",
     "text": [
      "string\n",
      "{'clientes': {1: 'Otavio'}}\n"
     ]
    }
   ],
   "source": [
    "class BaseDados:\n",
    "\tdef __init__(self): ##'Construtor' \n",
    "\t\tself.__dados = {} # Private\n",
    "\tdef inserir_cliente(self,id,nome): \n",
    "\t\tif 'clientes' not in self.__dados: \n",
    "\t\t\tself.__dados['clientes'] = {id: nome}\n",
    "\t\telse:\n",
    "\t\t\tself.__dados['clientes'].update({id: nome}) \n",
    "\tdef listar_clientes(self):\n",
    "\t\tfor id,nome in self.__dados['clientes'].items():\n",
    "\t\t\tprint(id,nome)\n",
    "\tdef apaga_cliente(self,id):\n",
    "\t\tdel self.__dados['clientes'][id]\n",
    "bd = BaseDados()\n",
    "bd.inserir_cliente(1,'Otavio')\n",
    "bd.__dados = 'string'\n",
    "print(bd.__dados) #Acessar a nova variavel com mesmo nome do dicionario\n",
    "print(bd._BaseDados__dados) #Acessar o dicionario em si _NOMECLASSE__"
   ]
  },
  {
   "cell_type": "markdown",
   "metadata": {},
   "source": [
    "Nesse caso, é útil adicionar um Getter para acessar o nucleo dos dados, já que ela agora estará inacessível. Então a classe pode ficar assim:"
   ]
  },
  {
   "cell_type": "code",
   "execution_count": 73,
   "metadata": {},
   "outputs": [],
   "source": [
    "class BaseDados:\n",
    "\tdef __init__(self): ##'Construtor' \n",
    "\t\tself.__dados = {} # Private\n",
    "\t@property #Propriedade/atributo da classe\n",
    "\tdef dados(self): #Getter do nosso núcleo privado.\n",
    "\t\treturn self.__dados\n",
    "\tdef inserir_cliente(self,id,nome): \n",
    "\t\tif 'clientes' not in self.__dados: \n",
    "\t\t\tself.__dados['clientes'] = {id: nome}\n",
    "\t\telse:\n",
    "\t\t\tself.__dados['clientes'].update({id: nome}) \n",
    "\tdef listar_clientes(self):\n",
    "\t\tfor id,nome in self.__dados['clientes'].items():\n",
    "\t\t\tprint(id,nome)\n",
    "\tdef apaga_cliente(self,id):\n",
    "\t\tdel self.__dados['clientes'][id]"
   ]
  },
  {
   "cell_type": "code",
   "execution_count": 74,
   "metadata": {},
   "outputs": [
    {
     "name": "stdout",
     "output_type": "stream",
     "text": [
      "{'clientes': {1: 'Lucas'}}\n"
     ]
    }
   ],
   "source": [
    "bd = BaseDados()\n",
    "bd.inserir_cliente(1,'Lucas')\n",
    "print(bd.dados) #Acessar o nucleo invulneravel"
   ]
  },
  {
   "cell_type": "markdown",
   "metadata": {},
   "source": [
    "Nesse caso, como não fizemos um Setter, não será nem possível atribuir qualquer valor ou variavel em dados."
   ]
  },
  {
   "cell_type": "markdown",
   "metadata": {},
   "source": [
    "### Capt 5: Associação e Agregação"
   ]
  },
  {
   "cell_type": "code",
   "execution_count": null,
   "metadata": {},
   "outputs": [],
   "source": []
  }
 ],
 "metadata": {
  "kernelspec": {
   "display_name": "Python 3",
   "language": "python",
   "name": "python3"
  },
  "language_info": {
   "codemirror_mode": {
    "name": "ipython",
    "version": 3
   },
   "file_extension": ".py",
   "mimetype": "text/x-python",
   "name": "python",
   "nbconvert_exporter": "python",
   "pygments_lexer": "ipython3",
   "version": "3.8.3"
  }
 },
 "nbformat": 4,
 "nbformat_minor": 4
}
