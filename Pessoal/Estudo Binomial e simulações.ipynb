{
 "cells": [
  {
   "cell_type": "markdown",
   "metadata": {},
   "source": [
    "# Distribuição Binomial\n",
    "### Estudo de distribuição Bernoulli e Binomial com aplicação na chance de drop de montarias no jogo World of Warcraft"
   ]
  },
  {
   "cell_type": "code",
   "execution_count": 2,
   "metadata": {},
   "outputs": [],
   "source": [
    "import numpy as np\n",
    "import pandas as pd\n",
    "import matplotlib.pyplot as plt"
   ]
  },
  {
   "cell_type": "markdown",
   "metadata": {},
   "source": [
    "    Na distribuição binomial, usamos a técnica de contagem 'Combinatória' pois consideramos a chance de haver 1 sucesso seja qualquer numero de tentativas (ou seja, a contagem de 'escolher' 2 pessoas num grupo de 10 funciona para o caso de querermos dois sucessos em 10 tentativas). Junto a isso, fazemos a multiplicação intuitiva das probabilidades para os casos de sucesso e fracasso. Isso somente funciona se considerarmos as tentativas INDEPENDENTES, como em casos de jogar moedas e dados honestos."
   ]
  },
  {
   "cell_type": "markdown",
   "metadata": {},
   "source": [
    "    Nesse problema quero saber mais ou menos quantas tentativas são necessárias para rolar pelo menos 1 drop de uma montaria de 5% de chance. O problema é que se eu utilizar apenas a distribuição binomial, consideraremos também as tentativas fracassadas APÓS o sucesso. Para driblar esse problema quero tentar duas ideias!"
   ]
  },
  {
   "cell_type": "markdown",
   "metadata": {},
   "source": [
    " - Primeira ideia: \n",
    "        A simples aplicação da distribuição binomial, mas consideraremos PELO MENOS 1 sucesso. Para esse caso, usarei a ideia de que a soma das probabilidades devem ser 1 (100%) para calcular a chance de haver apenas fracassos e depois subtrair de 1. "
   ]
  },
  {
   "cell_type": "markdown",
   "metadata": {},
   "source": [
    "O lance aqui é que o resultado não será muito pragmático, pois calculara a probabilidade de conseguir PELO MENOS 1 sucesso em n tentativas, mas assumindo que o jogadores tente varias vezes mesmo após o drop. Sabemos que na vida real tendemos a parar de tentar o farm após o primeiro sucesso. Mas mesmo assim, quero saber quantas tentativas nos aproximam dos 100% de drop."
   ]
  },
  {
   "cell_type": "code",
   "execution_count": 7,
   "metadata": {},
   "outputs": [],
   "source": [
    "def pelo_menos_1_sucesso(tentativas,fracasso):\n",
    "    '''\n",
    "    Dado o n° tentativas e a probabilidade de fracasso, retorna o valor da probabilidade de \n",
    "    pelo menos 1 sucesso em %.\n",
    "    '''\n",
    "    fracasso_total = fracasso**tentativas\n",
    "    return (1-fracasso_total)*100"
   ]
  },
  {
   "cell_type": "code",
   "execution_count": 158,
   "metadata": {},
   "outputs": [],
   "source": [
    "def qts_tentativas(fracasso,tentativas):\n",
    "    '''\n",
    "    Função recebe a probabilidade de fracasso e o numero de tentativas.\n",
    "    Retorna lista com as probabilidades de se ter PELO MENOS 1 sucesso entre 1~150 tentativas\n",
    "    '''\n",
    "    l=[]\n",
    "    for i in range(tentativas):\n",
    "        l.append(pelo_menos_1_sucesso(i,fracasso))\n",
    "    return l\n",
    "\n",
    "def tentativa_max(lista,n):\n",
    "    '''\n",
    "    Função que recebe lista de probabilidades e a n% minima.\n",
    "    Retorna a tentativa mínima para que se tenha PELO MENOS 1 sucesso com n% de certeza\n",
    "    '''\n",
    "    for i in range(len(lista)):\n",
    "        if lista[i]>n:\n",
    "            return i\n",
    "            break"
   ]
  },
  {
   "cell_type": "code",
   "execution_count": 12,
   "metadata": {},
   "outputs": [
    {
     "data": {
      "text/plain": [
       "51.23250208844705"
      ]
     },
     "execution_count": 12,
     "metadata": {},
     "output_type": "execute_result"
    }
   ],
   "source": [
    "pelo_menos_1_sucesso(14,0.95) #Pelo menos 1 sucesso em 14 tentativas"
   ]
  },
  {
   "cell_type": "code",
   "execution_count": 144,
   "metadata": {},
   "outputs": [
    {
     "name": "stdout",
     "output_type": "stream",
     "text": [
      "77\n"
     ]
    }
   ],
   "source": [
    "tentativa_max(qts_tentativas(0.95,150),98)"
   ]
  },
  {
   "cell_type": "code",
   "execution_count": 145,
   "metadata": {},
   "outputs": [
    {
     "name": "stdout",
     "output_type": "stream",
     "text": [
      "14\n"
     ]
    }
   ],
   "source": [
    "tentativa_max(qts_tentativas(0.95,150),50)"
   ]
  },
  {
   "cell_type": "code",
   "execution_count": 151,
   "metadata": {},
   "outputs": [
    {
     "data": {
      "image/png": "[encoded data removed]",
      "text/plain": [
       "<Figure size 432x288 with 1 Axes>"
      ]
     },
     "metadata": {
      "needs_background": "light"
     },
     "output_type": "display_data"
    },
    {
     "name": "stdout",
     "output_type": "stream",
     "text": [
      "A partir de 14 tentativas, temos probabilidade de sucesso acima de 50%.\n",
      "\n",
      "A partir de 77 tentativas, temos probabilidade próxima dos 100% de sucesso.\n"
     ]
    }
   ],
   "source": [
    "plt.title('A probabilidade de se dropar Montaria(5%) pelo menos uma vez')\n",
    "plt.plot(range(150), qts_tentativas(0.95,150),'m.')\n",
    "plt.xlabel('N° Tentativas')\n",
    "plt.ylabel('Probabilidade[%]')\n",
    "\n",
    "plt.axhline(50, color='r', linestyle='dotted', linewidth=2) # probabilidade que julgo aceitavel\n",
    "plt.axvline(14, color='r', linestyle='dotted', linewidth=2) # tentativas para a prob(aceitavel)\n",
    "\n",
    "plt.axvline(77, color='r', linestyle='dotted', linewidth=2) # tentativas para a prob(suesso) ser quase certa\n",
    "plt.show()\n",
    "print('A partir de '+str(14)+' tentativas, temos probabilidade de sucesso acima de 50%.\\n')\n",
    "print('A partir de 77 tentativas, temos probabilidade próxima dos 100% de sucesso.')"
   ]
  },
  {
   "cell_type": "markdown",
   "metadata": {},
   "source": [
    " - A segunda Ideia:\n",
    "        Encontrar uma forma de randomizar a probabilidade de drop, simular um grande numero de jogadores e guardar suas tentativas até o primeiro sucesso. Depois, plotar a quantidade de casos/numero de tentativas e ver qual o provavel numero de tentativas (acima de 50% dos jogadores)."
   ]
  },
  {
   "cell_type": "code",
   "execution_count": 40,
   "metadata": {},
   "outputs": [],
   "source": [
    "c = [] #Lista de 1 a 100\n",
    "for i in range(1,101):\n",
    "    c.append(i)"
   ]
  },
  {
   "cell_type": "code",
   "execution_count": 95,
   "metadata": {},
   "outputs": [],
   "source": [
    "def chance_sucesso(sucesso=0.05):\n",
    "    '''\n",
    "    Função que retorna uma lista de 1000 elementos\n",
    "    mostrando quantas tentativas foram necessárias para haver o primeiro sucesso. \n",
    "    Considera chance de sucesso padrão de 5%. Recebe a chance de sucesso em DECIMAL.\n",
    "    '''\n",
    "    fracasso = 1-sucesso\n",
    "    l=[]\n",
    "    tentativas = 1\n",
    "    while tentativas < 1000 and len(l) < 1000:\n",
    "        if random.choice(c) <= (sucesso*100): # Se o numero escolhido randomicamente entre 100 for menor ou igual a chance de sucesso em %, resulta em sucesso!\n",
    "            l.append(tentativas)\n",
    "            tentativas = 1\n",
    "        else:\n",
    "            tentativas += 1\n",
    "    return l"
   ]
  },
  {
   "cell_type": "code",
   "execution_count": 98,
   "metadata": {},
   "outputs": [
    {
     "data": {
      "text/plain": [
       "count    1000.000000\n",
       "mean       19.271000\n",
       "std        19.324363\n",
       "min         1.000000\n",
       "25%         6.000000\n",
       "50%        13.000000\n",
       "75%        26.250000\n",
       "max       164.000000\n",
       "dtype: float64"
      ]
     },
     "execution_count": 98,
     "metadata": {},
     "output_type": "execute_result"
    }
   ],
   "source": [
    "f = pd.Series(chance_sucesso())\n",
    "type(f)\n",
    "f.describe()"
   ]
  },
  {
   "cell_type": "code",
   "execution_count": 109,
   "metadata": {},
   "outputs": [
    {
     "data": {
      "image/png": "[encoded data removed]",
      "text/plain": [
       "<Figure size 504x504 with 1 Axes>"
      ]
     },
     "metadata": {
      "needs_background": "light"
     },
     "output_type": "display_data"
    }
   ],
   "source": [
    "#A cada 1000 jogadores, quantos conseguirão o drop em quantas tentativas? \n",
    "f.hist(color=\"k\", alpha=0.5, bins=20, figsize=[7,7])\n",
    "plt.xlabel('N° tentativas')\n",
    "plt.ylabel('Quantidade jogadores')\n",
    "plt.show()"
   ]
  },
  {
   "cell_type": "markdown",
   "metadata": {},
   "source": [
    "    Ou seja, a maioria dos jogadores conseguirá o drop nas primeiras 10 tentativas. A média de tentativas até o drop será por volta de 20. O jogador mais azarado precisará de mais de 160 tentativas para conseguir."
   ]
  },
  {
   "cell_type": "markdown",
   "metadata": {},
   "source": [
    "- Vamos fazer para um drop mais raro, digamos 1%:"
   ]
  },
  {
   "cell_type": "code",
   "execution_count": 100,
   "metadata": {},
   "outputs": [
    {
     "data": {
      "text/plain": [
       "count    1000.0000\n",
       "mean      102.8140\n",
       "std       103.1498\n",
       "min         1.0000\n",
       "25%        30.0000\n",
       "50%        73.0000\n",
       "75%       140.0000\n",
       "max       718.0000\n",
       "dtype: float64"
      ]
     },
     "execution_count": 100,
     "metadata": {},
     "output_type": "execute_result"
    }
   ],
   "source": [
    "invencivel = pd.Series(chance_sucesso(0.01))\n",
    "invencivel.describe()"
   ]
  },
  {
   "cell_type": "code",
   "execution_count": 101,
   "metadata": {},
   "outputs": [
    {
     "data": {
      "image/png": "[encoded data removed]",
      "text/plain": [
       "<Figure size 504x504 with 1 Axes>"
      ]
     },
     "metadata": {
      "needs_background": "light"
     },
     "output_type": "display_data"
    }
   ],
   "source": [
    "invencivel.hist(color=\"k\", alpha=0.5, bins=20, figsize=[7,7])\n",
    "plt.show()"
   ]
  },
  {
   "cell_type": "markdown",
   "metadata": {},
   "source": [
    "    Nesse caso, o grosso dos jogadores precisará tentar entre 1 ~ 30 vezes para conseguir a montaria. "
   ]
  },
  {
   "cell_type": "code",
   "execution_count": 103,
   "metadata": {},
   "outputs": [
    {
     "data": {
      "text/plain": [
       "count    1000.000000\n",
       "mean       48.632000\n",
       "std        48.568627\n",
       "min         1.000000\n",
       "25%        14.000000\n",
       "50%        34.000000\n",
       "75%        65.000000\n",
       "max       365.000000\n",
       "dtype: float64"
      ]
     },
     "execution_count": 103,
     "metadata": {},
     "output_type": "execute_result"
    }
   ],
   "source": [
    "cinzas_alar = pd.Series(chance_sucesso(0.02))\n",
    "cinzas_alar.describe()"
   ]
  },
  {
   "cell_type": "code",
   "execution_count": 105,
   "metadata": {},
   "outputs": [
    {
     "data": {
      "image/png": "[encoded data removed]",
      "text/plain": [
       "<Figure size 504x504 with 1 Axes>"
      ]
     },
     "metadata": {
      "needs_background": "light"
     },
     "output_type": "display_data"
    }
   ],
   "source": [
    "cinzas_alar.hist(color=\"k\", alpha=0.5, bins=20, figsize=[7,7])\n",
    "plt.show()"
   ]
  },
  {
   "cell_type": "markdown",
   "metadata": {},
   "source": [
    "    O grosso dos jogadores conseguirão as cinzas de al'ar nas primeiras 15 tentativas. A média de tentativas até o drop é de 48. O jogador mais azarado precisará tentar 365 vezes."
   ]
  },
  {
   "cell_type": "code",
   "execution_count": 159,
   "metadata": {},
   "outputs": [],
   "source": [
    "cinc = tentativa_max(qts_tentativas(0.98,300),50)\n",
    "cem = tentativa_max(qts_tentativas(0.98,300),98)"
   ]
  },
  {
   "cell_type": "code",
   "execution_count": 161,
   "metadata": {},
   "outputs": [
    {
     "data": {
      "image/png": "[encoded data removed]",
      "text/plain": [
       "<Figure size 432x288 with 1 Axes>"
      ]
     },
     "metadata": {
      "needs_background": "light"
     },
     "output_type": "display_data"
    },
    {
     "name": "stdout",
     "output_type": "stream",
     "text": [
      "A partir de 35 tentativas, temos probabilidade de sucesso acima de 50%.\n",
      "\n",
      "A partir de 194 tentativas, temos probabilidade próxima dos 100% de sucesso.\n"
     ]
    }
   ],
   "source": [
    "plt.title('A probabilidade de se dropar cinzas de al ar pelo menos uma vez')\n",
    "plt.plot(range(300), qts_tentativas(0.98,300),'m.')\n",
    "plt.xlabel('N° Tentativas')\n",
    "plt.ylabel('probabilidade [%]')\n",
    "plt.axhline(50, color='r', linestyle='dotted', linewidth=2) # probabilidade que julgo aceitavel\n",
    "plt.axvline(cinc, color='r', linestyle='dotted', linewidth=2) # tentativas para a prob(aceitavel)\n",
    "plt.axvline(cem, color='r', linestyle='dotted', linewidth=2) # tentativas para a prob(suesso) ser quase certa\n",
    "plt.show()\n",
    "print('A partir de '+str(cinc)+' tentativas, temos probabilidade de sucesso acima de 50%.\\n')\n",
    "print('A partir de '+str(cem)+' tentativas, temos probabilidade próxima dos 100% de sucesso.')"
   ]
  },
  {
   "cell_type": "code",
   "execution_count": null,
   "metadata": {},
   "outputs": [],
   "source": []
  }
 ],
 "metadata": {
  "kernelspec": {
   "display_name": "Python 3",
   "language": "python",
   "name": "python3"
  },
  "language_info": {
   "codemirror_mode": {
    "name": "ipython",
    "version": 3
   },
   "file_extension": ".py",
   "mimetype": "text/x-python",
   "name": "python",
   "nbconvert_exporter": "python",
   "pygments_lexer": "ipython3",
   "version": "3.8.3"
  }
 },
 "nbformat": 4,
 "nbformat_minor": 4
}
